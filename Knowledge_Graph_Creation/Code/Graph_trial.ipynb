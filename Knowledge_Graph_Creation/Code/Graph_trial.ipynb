{
 "cells": [
  {
   "cell_type": "code",
   "execution_count": 0,
   "metadata": {
    "colab": {},
    "colab_type": "code",
    "id": "HDeGtKEr8mXi"
   },
   "outputs": [],
   "source": [
    "import networkx as nx  \n",
    "import matplotlib.pyplot as plt\n",
    "import pandas as pd"
   ]
  },
  {
   "cell_type": "code",
   "execution_count": 0,
   "metadata": {
    "colab": {},
    "colab_type": "code",
    "id": "L1d12OED8pws"
   },
   "outputs": [],
   "source": [
    "\n",
    "# Sample data\n",
    "months = ['Jan','Apr','Mar','June']\n",
    "days = [31,30,31,30]\n",
    "d = {'Month':months,'Day':days}\n",
    "df = pd.DataFrame(d, columns=['Month', 'Day'])\n",
    "\n",
    "edges = []\n",
    "\n",
    "for idx, rr in df.iterrows():  \n",
    "        edges.append((rr['Month'], rr['Day']))\n",
    "g = nx.DiGraph()  \n",
    "g .add_edges_from(edges)\n",
    "\n",
    "# Plot\n",
    "plt.figure(figsize = (20, 10))\n",
    "\n",
    "nx.draw(g, with_labels = True, node_size = 5000, font_size = 20)  \n",
    "plt.show()  "
   ]
  }
 ],
 "metadata": {
  "colab": {
   "name": "Graph_trial.ipynb",
   "provenance": [],
   "version": "0.3.2"
  },
  "kernelspec": {
   "display_name": "Python 3",
   "language": "python",
   "name": "python3"
  },
  "language_info": {
   "codemirror_mode": {
    "name": "ipython",
    "version": 3
   },
   "file_extension": ".py",
   "mimetype": "text/x-python",
   "name": "python",
   "nbconvert_exporter": "python",
   "pygments_lexer": "ipython3",
   "version": "3.7.5"
  }
 },
 "nbformat": 4,
 "nbformat_minor": 1
}
