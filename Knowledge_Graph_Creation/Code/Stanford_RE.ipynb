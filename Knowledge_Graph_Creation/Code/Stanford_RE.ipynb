{
 "cells": [
  {
   "cell_type": "code",
   "execution_count": 0,
   "metadata": {
    "colab": {
     "base_uri": "https://localhost:8080/",
     "height": 124
    },
    "colab_type": "code",
    "executionInfo": {
     "elapsed": 42055,
     "status": "ok",
     "timestamp": 1556390657945,
     "user": {
      "displayName": "Vidhyalakshimi Sreenivasan",
      "photoUrl": "https://lh4.googleusercontent.com/-USDjX2HH3qk/AAAAAAAAAAI/AAAAAAAAAAc/AhuvJIOSFK0/s64/photo.jpg",
      "userId": "08716189862880610765"
     },
     "user_tz": 240
    },
    "id": "D8Mxw_xYFyGh",
    "outputId": "3fa9b063-8520-4d27-a04b-05421762a561"
   },
   "outputs": [
    {
     "name": "stdout",
     "output_type": "stream",
     "text": [
      "Go to this URL in a browser: https://accounts.google.com/o/oauth2/auth?client_id=947318989803-6bn6qk8qdgf4n4g3pfee6491hc0brc4i.apps.googleusercontent.com&redirect_uri=urn%3Aietf%3Awg%3Aoauth%3A2.0%3Aoob&scope=email%20https%3A%2F%2Fwww.googleapis.com%2Fauth%2Fdocs.test%20https%3A%2F%2Fwww.googleapis.com%2Fauth%2Fdrive%20https%3A%2F%2Fwww.googleapis.com%2Fauth%2Fdrive.photos.readonly%20https%3A%2F%2Fwww.googleapis.com%2Fauth%2Fpeopleapi.readonly&response_type=code\n",
      "\n",
      "Enter your authorization code:\n",
      "··········\n",
      "Mounted at /content/gdrive\n"
     ]
    }
   ],
   "source": [
    "# Reference: http://projects.csail.mit.edu/spatial/Stanford_Parser\n",
    "from google.colab import drive\n",
    "drive.mount('/content/gdrive')"
   ]
  },
  {
   "cell_type": "code",
   "execution_count": 0,
   "metadata": {
    "colab": {
     "base_uri": "https://localhost:8080/",
     "height": 347
    },
    "colab_type": "code",
    "executionInfo": {
     "elapsed": 2253,
     "status": "ok",
     "timestamp": 1556390719126,
     "user": {
      "displayName": "Vidhyalakshimi Sreenivasan",
      "photoUrl": "https://lh4.googleusercontent.com/-USDjX2HH3qk/AAAAAAAAAAI/AAAAAAAAAAc/AhuvJIOSFK0/s64/photo.jpg",
      "userId": "08716189862880610765"
     },
     "user_tz": 240
    },
    "id": "BmjAlLlOHAIg",
    "outputId": "2626b14b-8f3f-4e03-9786-d117d2ded4c1"
   },
   "outputs": [
    {
     "name": "stdout",
     "output_type": "stream",
     "text": [
      "stanford-parser-python-r22186/\n",
      "stanford-parser-python-r22186/README\n",
      "stanford-parser-python-r22186/3rdParty/\n",
      "stanford-parser-python-r22186/3rdParty/stanford-parser/\n",
      "stanford-parser-python-r22186/3rdParty/stanford-parser/englishPCFG.July-2010.ser\n",
      "stanford-parser-python-r22186/3rdParty/stanford-parser/Rakefile\n",
      "stanford-parser-python-r22186/3rdParty/jpype/\n",
      "stanford-parser-python-r22186/3rdParty/jpype/JPype-0.5.4.1.zip\n",
      "stanford-parser-python-r22186/3rdParty/jpype/Rakefile\n",
      "stanford-parser-python-r22186/src/\n",
      "stanford-parser-python-r22186/src/stanford_parser/\n",
      "stanford-parser-python-r22186/src/stanford_parser/parser.py\n",
      "stanford-parser-python-r22186/src/stanford_parser/__init__.py\n",
      "stanford-parser-python-r22186/src/stanford_parser/parser_test.py\n",
      "stanford-parser-python-r22186/src/stanford_parser/standoff.py\n",
      "stanford-parser-python-r22186/src/stanford_parser/dependencies_test.py\n",
      "stanford-parser-python-r22186/src/stanford_parser/standoff_test.py\n",
      "stanford-parser-python-r22186/src/stanford_parser/dependencies.py\n",
      "stanford-parser-python-r22186/Rakefile\n"
     ]
    }
   ],
   "source": [
    "!cp gdrive/My\\ Drive/ADBI\\ Project/Packages/Stanford-parser.tar.gz .\n",
    "!tar -xvzf Stanford-parser.tar.gz"
   ]
  },
  {
   "cell_type": "code",
   "execution_count": 0,
   "metadata": {
    "colab": {
     "base_uri": "https://localhost:8080/",
     "height": 35
    },
    "colab_type": "code",
    "executionInfo": {
     "elapsed": 2258,
     "status": "ok",
     "timestamp": 1556390727877,
     "user": {
      "displayName": "Vidhyalakshimi Sreenivasan",
      "photoUrl": "https://lh4.googleusercontent.com/-USDjX2HH3qk/AAAAAAAAAAI/AAAAAAAAAAc/AhuvJIOSFK0/s64/photo.jpg",
      "userId": "08716189862880610765"
     },
     "user_tz": 240
    },
    "id": "bmkFeo9gHC6q",
    "outputId": "a98303fc-3dc6-46bd-953c-b7801ecc5065"
   },
   "outputs": [
    {
     "name": "stdout",
     "output_type": "stream",
     "text": [
      "gdrive\tsample_data  stanford-parser-python-r22186  Stanford-parser.tar.gz\n"
     ]
    }
   ],
   "source": [
    "! ls"
   ]
  },
  {
   "cell_type": "code",
   "execution_count": 0,
   "metadata": {
    "colab": {
     "base_uri": "https://localhost:8080/",
     "height": 69
    },
    "colab_type": "code",
    "executionInfo": {
     "elapsed": 2644,
     "status": "ok",
     "timestamp": 1556390945557,
     "user": {
      "displayName": "Vidhyalakshimi Sreenivasan",
      "photoUrl": "https://lh4.googleusercontent.com/-USDjX2HH3qk/AAAAAAAAAAI/AAAAAAAAAAc/AhuvJIOSFK0/s64/photo.jpg",
      "userId": "08716189862880610765"
     },
     "user_tz": 240
    },
    "id": "AIkFYEjtH-AV",
    "outputId": "66be35dd-dc87-4044-851d-bd4244df6250"
   },
   "outputs": [
    {
     "name": "stdout",
     "output_type": "stream",
     "text": [
      "Collecting stanford-parser\n",
      "\u001b[31m  Could not find a version that satisfies the requirement stanford-parser (from versions: )\u001b[0m\n",
      "\u001b[31mNo matching distribution found for stanford-parser\u001b[0m\n"
     ]
    }
   ],
   "source": [
    "! pip install stanford-parser"
   ]
  },
  {
   "cell_type": "code",
   "execution_count": 0,
   "metadata": {
    "colab": {},
    "colab_type": "code",
    "id": "gPBhmtYDHcaq"
   },
   "outputs": [],
   "source": [
    "from  import parser\n",
    "dependencies = parser.parseToStanfordDependencies(\"Pick up the tire pallet.\")\n",
    "tupleResult = [(rel, gov.text, dep.text) for rel, gov, dep in dependencies.dependencies]\n",
    "print(tupleResult)\n",
    "# self.assertEqual(tupleResult, [('prt', 'Pick', 'up'),\n",
    "#                               ('det', 'pallet', 'the'),\n",
    "#                                       ('nn', 'pallet', 'tire'),\n",
    "#                                       ('dobj', 'Pick', 'pallet')]"
   ]
  },
  {
   "cell_type": "code",
   "execution_count": 0,
   "metadata": {
    "colab": {},
    "colab_type": "code",
    "id": "9BPdmt3DH7cG"
   },
   "outputs": [],
   "source": [
    "import networkx as nx  \n",
    "import matplotlib.pyplot as plt\n",
    "import pandas as pd"
   ]
  },
  {
   "cell_type": "code",
   "execution_count": 0,
   "metadata": {
    "colab": {},
    "colab_type": "code",
    "id": "0HiRcv-G5Q0C"
   },
   "outputs": [],
   "source": [
    "\n",
    "# Sample data\n",
    "months = ['Jan','Apr','Mar','June']\n",
    "days = [31,30,31,30]\n",
    "d = {'Month':months,'Day':days}\n",
    "df = pd.DataFrame(d, columns=['Month', 'Day'])\n",
    "\n",
    "edges = []\n",
    "\n",
    "for idx, rr in df.iterrows():  \n",
    "        edges.append((rr['Month'], rr['Day']))\n",
    "g = nx.DiGraph()  \n",
    "g .add_edges_from(edges)\n",
    "\n",
    "# Plot\n",
    "plt.figure(figsize = (20, 10))\n",
    "\n",
    "nx.draw(g, with_labels = True, node_size = 5000, font_size = 20)  \n",
    "plt.show()  "
   ]
  },
  {
   "cell_type": "code",
   "execution_count": 0,
   "metadata": {
    "colab": {
     "base_uri": "https://localhost:8080/",
     "height": 771
    },
    "colab_type": "code",
    "executionInfo": {
     "elapsed": 793,
     "status": "ok",
     "timestamp": 1556404118919,
     "user": {
      "displayName": "Vidhyalakshimi Sreenivasan",
      "photoUrl": "https://lh4.googleusercontent.com/-USDjX2HH3qk/AAAAAAAAAAI/AAAAAAAAAAc/AhuvJIOSFK0/s64/photo.jpg",
      "userId": "08716189862880610765"
     },
     "user_tz": 240
    },
    "id": "hkAd2Y9F5Ts6",
    "outputId": "a984830a-4c99-4a12-ba62-b726f92c0817"
   },
   "outputs": [
    {
     "data": {
      "image/png": "[encoded data removed]",
      "text/plain": [
       "<Figure size 1440x720 with 1 Axes>"
      ]
     },
     "metadata": {
      "tags": []
     },
     "output_type": "display_data"
    }
   ],
   "source": []
  },
  {
   "cell_type": "code",
   "execution_count": 0,
   "metadata": {
    "colab": {},
    "colab_type": "code",
    "id": "Wzt6mQ2V6iCS"
   },
   "outputs": [],
   "source": []
  }
 ],
 "metadata": {
  "colab": {
   "collapsed_sections": [],
   "name": "Stanford_RE.ipynb",
   "provenance": [],
   "version": "0.3.2"
  },
  "kernelspec": {
   "display_name": "Python 3",
   "language": "python",
   "name": "python3"
  },
  "language_info": {
   "codemirror_mode": {
    "name": "ipython",
    "version": 3
   },
   "file_extension": ".py",
   "mimetype": "text/x-python",
   "name": "python",
   "nbconvert_exporter": "python",
   "pygments_lexer": "ipython3",
   "version": "3.7.5"
  }
 },
 "nbformat": 4,
 "nbformat_minor": 1
}
