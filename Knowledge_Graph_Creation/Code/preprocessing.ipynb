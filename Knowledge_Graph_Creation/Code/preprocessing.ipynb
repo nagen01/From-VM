{
 "cells": [
  {
   "cell_type": "markdown",
   "metadata": {},
   "source": [
    "# This module preprocess the input text"
   ]
  },
  {
   "cell_type": "code",
   "execution_count": 1,
   "metadata": {},
   "outputs": [
    {
     "name": "stderr",
     "output_type": "stream",
     "text": [
      "[nltk_data] Downloading package punkt to /home/nb01/nltk_data...\n",
      "[nltk_data]   Package punkt is already up-to-date!\n",
      "[nltk_data] Downloading package stopwords to /home/nb01/nltk_data...\n",
      "[nltk_data]   Package stopwords is already up-to-date!\n"
     ]
    }
   ],
   "source": [
    "#Importing important libraries\n",
    "import nltk\n",
    "from nltk.tokenize import word_tokenize\n",
    "from nltk.corpus import stopwords\n",
    "nltk.download('punkt')\n",
    "nltk.download('stopwords')\n",
    "import re"
   ]
  },
  {
   "cell_type": "code",
   "execution_count": 2,
   "metadata": {},
   "outputs": [],
   "source": [
    "# Load the Apostrophes connecting words\n",
    "with open('appos.txt','r') as f:\n",
    "    appos = eval(f.read())"
   ]
  },
  {
   "cell_type": "code",
   "execution_count": 3,
   "metadata": {},
   "outputs": [],
   "source": [
    "text = \"\"\"Curtis James Jackson III (born July 6, 1975),[3] known professionally as 50 Cent, is an American rapper, singer, songwriter, actor, television producer, entrepreneur, and investor. Born in the South Jamaica neighborhood of the borough of Queens, Jackson began selling drugs at age twelve during the 1980s crack epidemic. He later began pursuing a musical career and in 2000 he produced Power of the Dollar for Columbia Records, but days before the planned release he was shot and the album was never released. In 2002, after Jackson released the compilation album Guess Who's Back?, he was discovered by Eminem and signed to Shady Records, under the aegis of Dr. Dre's Aftermath Entertainment and Interscope Records.\n",
    "With the aid of Eminem and Dr. Dre (who produced his first major-label album, Get Rich or Die Tryin'), Jackson became one of the world's best selling rappers and rose to prominence with East Coast hip hop group G-Unit (which he leads de facto). In 2003, he founded G-Unit Records, signing his G-Unit associates Young Buck, Lloyd Banks and Tony Yayo. Jackson had similar commercial and critical success with his second album, The Massacre, which was released in 2005. He released his fifth studio album, Animal Ambition, in 2014 and is working on his sixth studio album, Street King Immortal. He executive produces and stars in the show Power, which airs on Starz.[4]\n",
    "During his career Jackson has sold over 30 million albums worldwide and won several awards, including a Grammy Award, thirteen Billboard Music Awards, six World Music Awards, three American Music Awards and four BET Awards.[5] He has pursued an acting career, appearing in the semi-autobiographical film Get Rich or Die Tryin' (2005), the Iraq War film Home of the Brave (2006) and Righteous Kill (2008). 50 Cent was ranked the sixth-best artist of the 2000s and the third-best rapper (behind Eminem and Nelly) by Billboard.[6] Rolling Stone consider Get Rich or Die Tryin' and \"In da Club\" to be in their lists of \"100 Best albums of the 2000s\" and \"100 Best songs of the 2000s at numbers 37 and 13\" respectively.[7][8]\"\"\""
   ]
  },
  {
   "cell_type": "code",
   "execution_count": 4,
   "metadata": {},
   "outputs": [],
   "source": [
    "# Function returns the negation handled word if it is present in the appos dictionary else returns the word itself\n",
    "def negationHandling(word):\n",
    "    if word in appos:\n",
    "        return appos[word]\n",
    "    else:\n",
    "        return word"
   ]
  },
  {
   "cell_type": "code",
   "execution_count": 5,
   "metadata": {},
   "outputs": [],
   "source": [
    "# Check if a word is a Stopword\n",
    "# Stopword is a word that is commonly present in most of the documents and does not affect the model\n",
    "# ie stopword dose not add context \n",
    "def isNotStopWord(word):\n",
    "    return word not in stopwords.words('english')"
   ]
  },
  {
   "cell_type": "code",
   "execution_count": 12,
   "metadata": {},
   "outputs": [],
   "source": [
    "class Preprocess():\n",
    "    def __init__(self,text):\n",
    "        self.text = text\n",
    "        \n",
    "    def preprocessingText(text):\n",
    "        text = re.sub(\"[\\(\\[].*?[\\)\\]]\", \"\", text)\n",
    "        sentences = nltk.sent_tokenize(text)\n",
    "        tokens = []\n",
    "        #temp = \"\"\n",
    "\n",
    "        for sentence in sentences:\n",
    "            #tokens = []\n",
    "            words = nltk.word_tokenize(sentence)\n",
    "\n",
    "            #Converting to LowerCase\n",
    "            #words = map(str.lower, words)\n",
    "\n",
    "            # Remove stop words\n",
    "            words = filter(lambda x: isNotStopWord(x), words)\n",
    "\n",
    "            # Removing punctuations except '<.>/<?>/<!>'\n",
    "            punctuations = '\"#$%&\\'()*+,-/:;<=>@\\\\^_`{|}~'\n",
    "            words = map(lambda x: x.translate(str.maketrans('', '', punctuations)), words)\n",
    "\n",
    "            # Remove empty strings\n",
    "            words = filter(lambda x: len(x) > 0, words)\n",
    "\n",
    "            tokens = tokens + list(words)\n",
    "            #print(tokens)\n",
    "            temp = ' '.join(word for word in tokens)\n",
    "\n",
    "        return temp"
   ]
  },
  {
   "cell_type": "code",
   "execution_count": 13,
   "metadata": {},
   "outputs": [
    {
     "data": {
      "text/plain": [
       "'Curtis James Jackson III known professionally 50 Cent American rapper singer songwriter actor television producer entrepreneur investor . Born South Jamaica neighborhood borough Queens Jackson began selling drugs age twelve 1980s crack epidemic . He later began pursuing musical career 2000 produced Power Dollar Columbia Records days planned release shot album never released . In 2002 Jackson released compilation album Guess Who s Back ? discovered Eminem signed Shady Records aegis Dr. Dre s Aftermath Entertainment Interscope Records . With aid Eminem Dr. Dre Jackson became one world s best selling rappers rose prominence East Coast hip hop group GUnit . In 2003 founded GUnit Records signing GUnit associates Young Buck Lloyd Banks Tony Yayo . Jackson similar commercial critical success second album The Massacre released 2005 . He released fifth studio album Animal Ambition 2014 working sixth studio album Street King Immortal . He executive produces stars show Power airs Starz . During career Jackson sold 30 million albums worldwide several awards including Grammy Award thirteen Billboard Music Awards six World Music Awards three American Music Awards four BET Awards . He pursued acting career appearing semiautobiographical film Get Rich Die Tryin Iraq War film Home Brave Righteous Kill . 50 Cent ranked sixthbest artist 2000s thirdbest rapper Billboard . Rolling Stone consider Get Rich Die Tryin In da Club lists 100 Best albums 2000s 100 Best songs 2000s numbers 37 13 respectively .'"
      ]
     },
     "execution_count": 13,
     "metadata": {},
     "output_type": "execute_result"
    }
   ],
   "source": [
    "Preprocess.preprocessingText(text)"
   ]
  },
  {
   "cell_type": "code",
   "execution_count": null,
   "metadata": {},
   "outputs": [],
   "source": []
  }
 ],
 "metadata": {
  "kernelspec": {
   "display_name": "Python 3",
   "language": "python",
   "name": "python3"
  },
  "language_info": {
   "codemirror_mode": {
    "name": "ipython",
    "version": 3
   },
   "file_extension": ".py",
   "mimetype": "text/x-python",
   "name": "python",
   "nbconvert_exporter": "python",
   "pygments_lexer": "ipython3",
   "version": "3.7.5"
  }
 },
 "nbformat": 4,
 "nbformat_minor": 2
}
