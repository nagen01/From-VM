{
 "cells": [
  {
   "cell_type": "markdown",
   "metadata": {
    "colab_type": "text",
    "id": "xW6JFfar-sfq"
   },
   "source": [
    "### Generate knowledge graph and support queries using Neo4j\n",
    "##### Dependency - install py2neo\n",
    "##### Prerequisite - Install and have a graph instance running in Neo4j"
   ]
  },
  {
   "cell_type": "markdown",
   "metadata": {
    "colab_type": "text",
    "id": "RvWG9Vwo-sfu"
   },
   "source": [
    "#### Install Py2neo"
   ]
  },
  {
   "cell_type": "code",
   "execution_count": 12,
   "metadata": {
    "colab": {},
    "colab_type": "code",
    "id": "E8Py6Hi2-sgH"
   },
   "outputs": [],
   "source": [
    "#from py2neo import Graph\n",
    "from py2neo import Database, Graph, Node, Relationship\n",
    "import pickle\n",
    "import pandas as pd"
   ]
  },
  {
   "cell_type": "markdown",
   "metadata": {
    "colab_type": "text",
    "id": "3QeOIUzT-sgQ"
   },
   "source": [
    "### Load Data"
   ]
  },
  {
   "cell_type": "code",
   "execution_count": 13,
   "metadata": {
    "colab": {},
    "colab_type": "code",
    "id": "zhqFl-c7-sgS"
   },
   "outputs": [],
   "source": [
    "svos = pd.read_csv(\"svos.csv\", names = ['sub', 'rel', 'obj'])\n",
    "#print(svos)\n",
    "pickle_in = open(\"entity_dict.pickle\",\"rb\")\n",
    "entities = pickle.load(pickle_in)\n",
    "#print(entities)"
   ]
  },
  {
   "cell_type": "markdown",
   "metadata": {
    "colab_type": "text",
    "id": "W1x26Yuy-sgb"
   },
   "source": [
    "### Graph construction"
   ]
  },
  {
   "cell_type": "code",
   "execution_count": 14,
   "metadata": {
    "colab": {},
    "colab_type": "code",
    "id": "adScMnkb-sgc"
   },
   "outputs": [],
   "source": [
    "# Connect to Neo4j using corresponding <port:7687> and <password>\n",
    "graph = Graph(\"neo4j@bolt://localhost:7687\",password=\"1432\")\n",
    "#graph.delete_all()\n",
    "\n",
    "# Parse the entities and build the knowledge graph in Neo4j Database\n",
    "for index, row in svos.iterrows():\n",
    "    sub, rel, obj = row\n",
    "    \n",
    "    sub_node = graph.nodes.match(entities.get(sub, \"Object\"), name=sub).first()\n",
    "    obj_node = graph.nodes.match(\"Object\", name=obj).first()\n",
    "    if not sub_node:\n",
    "        sub_node = Node(entities.get(sub, \"Object\"),name = sub)\n",
    "    if not obj_node:\n",
    "        obj_node = Node(entities.get(obj, \"Object\"),name = obj)\n",
    "    relation = Relationship.type(rel)    \n",
    "    graph.merge(relation(sub_node, obj_node), entities.get(sub, \"Object\"), \"name\" )"
   ]
  }
 ],
 "metadata": {
  "colab": {
   "name": "Neo4jGraph.ipynb",
   "provenance": [],
   "version": "0.3.2"
  },
  "kernelspec": {
   "display_name": "Python 3",
   "language": "python",
   "name": "python3"
  },
  "language_info": {
   "codemirror_mode": {
    "name": "ipython",
    "version": 3
   },
   "file_extension": ".py",
   "mimetype": "text/x-python",
   "name": "python",
   "nbconvert_exporter": "python",
   "pygments_lexer": "ipython3",
   "version": "3.7.5"
  }
 },
 "nbformat": 4,
 "nbformat_minor": 1
}
